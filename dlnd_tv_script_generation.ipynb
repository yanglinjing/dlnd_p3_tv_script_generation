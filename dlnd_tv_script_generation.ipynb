{
  "nbformat": 4,
  "nbformat_minor": 0,
  "metadata": {
    "colab": {
      "name": "dlnd_tv_script_generation.ipynb",
      "version": "0.3.2",
      "provenance": [],
      "collapsed_sections": [
        "90oKUv96D3jX"
      ]
    },
    "language_info": {
      "codemirror_mode": {
        "name": "ipython",
        "version": 3
      },
      "file_extension": ".py",
      "mimetype": "text/x-python",
      "name": "python",
      "nbconvert_exporter": "python",
      "pygments_lexer": "ipython3",
      "version": "3.6.3"
    },
    "kernelspec": {
      "name": "python3",
      "display_name": "Python 3"
    },
    "accelerator": "GPU"
  },
  "cells": [
    {
      "metadata": {
        "id": "74gWvduZD3jR",
        "colab_type": "text"
      },
      "cell_type": "markdown",
      "source": [
        "# TV Script Generation\n",
        "In this project, you'll generate your own [Simpsons](https://en.wikipedia.org/wiki/The_Simpsons) TV scripts using RNNs.  You'll be using part of the [Simpsons dataset](https://www.kaggle.com/wcukierski/the-simpsons-by-the-data) of scripts from 27 seasons.  The Neural Network you'll build will generate a new TV script for a scene at [Moe's Tavern](https://simpsonswiki.com/wiki/Moe's_Tavern).\n"
      ]
    },
    {
      "metadata": {
        "id": "_nIEk14mD-WL",
        "colab_type": "code",
        "colab": {
          "base_uri": "https://localhost:8080/",
          "height": 34
        },
        "outputId": "097b4151-4e70-4aea-aa27-e76bc06e0a9a"
      },
      "cell_type": "code",
      "source": [
        "# All the documents are stored on Google Drive.\n",
        "# It requires authorisation before use them.\n",
        "# This chunk of code is about authorisation.\n",
        "\n",
        "# Mounting Google Drive locally\n",
        "# https://colab.research.google.com/notebooks/io.ipynb#scrollTo=u22w3BFiOveA\n",
        "\n",
        "from google.colab import drive\n",
        "drive.mount('/content/gdrive')"
      ],
      "execution_count": 1,
      "outputs": [
        {
          "output_type": "stream",
          "text": [
            "Drive already mounted at /content/gdrive; to attempt to forcibly remount, call drive.mount(\"/content/gdrive\", force_remount=True).\n"
          ],
          "name": "stdout"
        }
      ]
    },
    {
      "metadata": {
        "id": "5TKxVS0aD_5j",
        "colab_type": "code",
        "colab": {
          "base_uri": "https://localhost:8080/",
          "height": 34
        },
        "outputId": "709f545a-7498-41f5-8016-c75d2acd0091"
      },
      "cell_type": "code",
      "source": [
        "!pwd"
      ],
      "execution_count": 3,
      "outputs": [
        {
          "output_type": "stream",
          "text": [
            "/content\n"
          ],
          "name": "stdout"
        }
      ]
    },
    {
      "metadata": {
        "id": "wnEHe97JEBUz",
        "colab_type": "code",
        "colab": {
          "base_uri": "https://localhost:8080/",
          "height": 34
        },
        "outputId": "747190fe-51ae-4d43-8b7f-d1fe45e854e7"
      },
      "cell_type": "code",
      "source": [
        "import os \n",
        "os.chdir('gdrive/My Drive/Colab Notebooks/dl_p3_tv_script')\n",
        "!pwd"
      ],
      "execution_count": 4,
      "outputs": [
        {
          "output_type": "stream",
          "text": [
            "/content/gdrive/My Drive/Colab Notebooks/dl_p3_tv_script\n"
          ],
          "name": "stdout"
        }
      ]
    },
    {
      "metadata": {
        "id": "Wk4ZJuVpEEGa",
        "colab_type": "code",
        "colab": {
          "base_uri": "https://localhost:8080/",
          "height": 67
        },
        "outputId": "376d1e9d-4493-463b-f404-566cd4ff86be"
      },
      "cell_type": "code",
      "source": [
        "!ls"
      ],
      "execution_count": 5,
      "outputs": [
        {
          "output_type": "stream",
          "text": [
            "data\t\t\t\t    helper.py\t\t  __pycache__\n",
            "dlnd_tv_script_generation.ipynb     preprocess.p\t  requirements.txt\n",
            "dlnd_tv_script_generation-zh.ipynb  problem_unittests.py\n"
          ],
          "name": "stdout"
        }
      ]
    },
    {
      "metadata": {
        "id": "eH775QjGEG1J",
        "colab_type": "code",
        "colab": {
          "base_uri": "https://localhost:8080/",
          "height": 34
        },
        "outputId": "0514f53a-e606-4fc4-8a83-8a98144df2dd"
      },
      "cell_type": "code",
      "source": [
        "import tensorflow as tf\n",
        "tf.test.gpu_device_name()\n",
        "\n",
        "# '/device:GPU:0' \n",
        "#  GPU is working"
      ],
      "execution_count": 6,
      "outputs": [
        {
          "output_type": "execute_result",
          "data": {
            "text/plain": [
              "'/device:GPU:0'"
            ]
          },
          "metadata": {
            "tags": []
          },
          "execution_count": 6
        }
      ]
    },
    {
      "metadata": {
        "id": "yOAIrgXXEIXt",
        "colab_type": "code",
        "colab": {}
      },
      "cell_type": "code",
      "source": [
        "import numpy as np\n",
        "import tensorflow as tf\n",
        "\n",
        "from distutils.version import LooseVersion\n",
        "import warnings\n",
        "\n",
        "\n",
        "from string import punctuation\n",
        "from collections import Counter\n",
        "\n",
        "\n",
        "# .py\n",
        "import helper\n",
        "import problem_unittests as tests"
      ],
      "execution_count": 0,
      "outputs": []
    },
    {
      "metadata": {
        "id": "UplSVeDfD9sZ",
        "colab_type": "text"
      },
      "cell_type": "markdown",
      "source": [
        "## Get the Data\n",
        "The data is already provided for you.  You'll be using a subset of the original dataset.  It consists of only the scenes in Moe's Tavern.  This doesn't include other versions of the tavern, like \"Moe's Cavern\", \"Flaming Moe's\", \"Uncle Moe's Family Feed-Bag\", etc.."
      ]
    },
    {
      "metadata": {
        "id": "X8FiG5IgD3jS",
        "colab_type": "code",
        "colab": {}
      },
      "cell_type": "code",
      "source": [
        "\"\"\"\n",
        "DON'T MODIFY ANYTHING IN THIS CELL\n",
        "\"\"\"\n",
        "import helper\n",
        "\n",
        "data_dir = './data/simpsons/moes_tavern_lines.txt'\n",
        "text = helper.load_data(data_dir)\n",
        "# Ignore notice, since we don't use it for analysing the data\n",
        "text = text[81:]"
      ],
      "execution_count": 0,
      "outputs": []
    },
    {
      "metadata": {
        "id": "90oKUv96D3jX",
        "colab_type": "text"
      },
      "cell_type": "markdown",
      "source": [
        "## Explore the Data\n",
        "Play around with `view_sentence_range` to view different parts of the data."
      ]
    },
    {
      "metadata": {
        "id": "U439YVlED3jY",
        "colab_type": "code",
        "colab": {
          "base_uri": "https://localhost:8080/",
          "height": 319
        },
        "outputId": "45c48d38-b741-41a6-e55f-48aa30da755c"
      },
      "cell_type": "code",
      "source": [
        "view_sentence_range = (0, 10)\n",
        "\n",
        "\"\"\"\n",
        "DON'T MODIFY ANYTHING IN THIS CELL\n",
        "\"\"\"\n",
        "import numpy as np\n",
        "\n",
        "print('Dataset Stats')\n",
        "print('Roughly the number of unique words: {}'.format(len({word: None for word in text.split()})))\n",
        "scenes = text.split('\\n\\n')\n",
        "print('Number of scenes: {}'.format(len(scenes)))\n",
        "sentence_count_scene = [scene.count('\\n') for scene in scenes]\n",
        "print('Average number of sentences in each scene: {}'.format(np.average(sentence_count_scene)))\n",
        "\n",
        "sentences = [sentence for scene in scenes for sentence in scene.split('\\n')]\n",
        "print('Number of lines: {}'.format(len(sentences)))\n",
        "word_count_sentence = [len(sentence.split()) for sentence in sentences]\n",
        "print('Average number of words in each line: {}'.format(np.average(word_count_sentence)))\n",
        "\n",
        "print()\n",
        "print('The sentences {} to {}:'.format(*view_sentence_range))\n",
        "print('\\n'.join(text.split('\\n')[view_sentence_range[0]:view_sentence_range[1]]))"
      ],
      "execution_count": 9,
      "outputs": [
        {
          "output_type": "stream",
          "text": [
            "Dataset Stats\n",
            "Roughly the number of unique words: 11492\n",
            "Number of scenes: 262\n",
            "Average number of sentences in each scene: 15.248091603053435\n",
            "Number of lines: 4257\n",
            "Average number of words in each line: 11.50434578341555\n",
            "\n",
            "The sentences 0 to 10:\n",
            "Moe_Szyslak: (INTO PHONE) Moe's Tavern. Where the elite meet to drink.\n",
            "Bart_Simpson: Eh, yeah, hello, is Mike there? Last name, Rotch.\n",
            "Moe_Szyslak: (INTO PHONE) Hold on, I'll check. (TO BARFLIES) Mike Rotch. Mike Rotch. Hey, has anybody seen Mike Rotch, lately?\n",
            "Moe_Szyslak: (INTO PHONE) Listen you little puke. One of these days I'm gonna catch you, and I'm gonna carve my name on your back with an ice pick.\n",
            "Moe_Szyslak: What's the matter Homer? You're not your normal effervescent self.\n",
            "Homer_Simpson: I got my problems, Moe. Give me another one.\n",
            "Moe_Szyslak: Homer, hey, you should not drink to forget your problems.\n",
            "Barney_Gumble: Yeah, you should only drink to enhance your social skills.\n",
            "\n",
            "\n"
          ],
          "name": "stdout"
        }
      ]
    },
    {
      "metadata": {
        "id": "gdR6bVgzD3ja",
        "colab_type": "text"
      },
      "cell_type": "markdown",
      "source": [
        "## Implement Preprocessing Functions\n",
        "The first thing to do to any dataset is preprocessing.  Implement the following preprocessing functions below:\n",
        "- Lookup Table\n",
        "- Tokenize Punctuation\n",
        "\n",
        "### Lookup Table\n",
        "To create a word embedding, you first need to transform the words to ids.  In this function, create two dictionaries:\n",
        "- Dictionary to go from the words to an id, we'll call `vocab_to_int`\n",
        "- Dictionary to go from the id to word, we'll call `int_to_vocab`\n",
        "\n",
        "Return these dictionaries in the following tuple `(vocab_to_int, int_to_vocab)`"
      ]
    },
    {
      "metadata": {
        "id": "vZ7RfezAD3jb",
        "colab_type": "code",
        "colab": {
          "base_uri": "https://localhost:8080/",
          "height": 34
        },
        "outputId": "7782e4a2-1f0b-434b-e4d2-b14c8bde4ba5"
      },
      "cell_type": "code",
      "source": [
        "def create_lookup_tables(text):\n",
        "    \"\"\"\n",
        "    Create lookup tables for vocabulary\n",
        "    INPUT:\n",
        "      A list - The text of tv scripts split into words\n",
        "    OUTPUT:\n",
        "      A tuple of dicts (vocab_to_int, int_to_vocab)\n",
        "    \"\"\"\n",
        "    # TODO: Implement Function\n",
        "    \n",
        "    # Sort words by frequency (most -> least)\n",
        "    counts = Counter(text)\n",
        "    vocab = sorted(counts, key=counts.get, reverse = True)\n",
        "    \n",
        "    # Create a dictionary {word: index}, index starts from 1\n",
        "    vocab_to_int = {word:i for i, word in enumerate(vocab, 1)}\n",
        "    \n",
        "    # Create a dictionary {index: word}\n",
        "    int_to_vocab = {i:word for i, word in enumerate(vocab, 1)}\n",
        "    \n",
        "    return vocab_to_int, int_to_vocab\n",
        "\n",
        "\n",
        "\"\"\"\n",
        "DON'T MODIFY ANYTHING IN THIS CELL THAT IS BELOW THIS LINE\n",
        "\"\"\"\n",
        "tests.test_create_lookup_tables(create_lookup_tables)"
      ],
      "execution_count": 10,
      "outputs": [
        {
          "output_type": "stream",
          "text": [
            "Tests Passed\n"
          ],
          "name": "stdout"
        }
      ]
    },
    {
      "metadata": {
        "id": "S0M93qyOD3je",
        "colab_type": "text"
      },
      "cell_type": "markdown",
      "source": [
        "### Tokenize Punctuation\n",
        "We'll be splitting the script into a word array using spaces as delimiters.  However, punctuations like periods and exclamation marks make it hard for the neural network to distinguish between the word \"bye\" and \"bye!\".\n",
        "\n",
        "Implement the function `token_lookup` to return a dict that will be used to tokenize symbols like \"!\" into \"||Exclamation_Mark||\".  Create a dictionary for the following symbols where the symbol is the key and value is the token:\n",
        "- Period ( . )\n",
        "- Comma ( , )\n",
        "- Quotation Mark ( \" )\n",
        "- Semicolon ( ; )\n",
        "- Exclamation mark ( ! )\n",
        "- Question mark ( ? )\n",
        "- Left Parentheses ( ( )\n",
        "- Right Parentheses ( ) )\n",
        "- Dash ( -- )\n",
        "- Return ( \\n )\n",
        "\n",
        "This dictionary will be used to token the symbols and add the delimiter (space) around it.  This separates the symbols as it's own word, making it easier for the neural network to predict on the next word. Make sure you don't use a token that could be confused as a word. Instead of using the token \"dash\", try using something like \"||dash||\"."
      ]
    },
    {
      "metadata": {
        "id": "JMSTyW2XD3jf",
        "colab_type": "code",
        "colab": {
          "base_uri": "https://localhost:8080/",
          "height": 34
        },
        "outputId": "f7ab99ee-c5ed-432b-f2d7-d64c020ef111"
      },
      "cell_type": "code",
      "source": [
        "def token_lookup():\n",
        "    \"\"\"\n",
        "    Generate a dict to turn punctuation into a token.\n",
        "    OUTPUT:\n",
        "      Tokenize dictionary where the key is the punctuation and the value is the token\n",
        "    \"\"\"\n",
        "    # TODO: Implement Function\n",
        "    \n",
        "    token_dict = {\n",
        "        '.': '<period>',\n",
        "        ',': '<comma>',\n",
        "        '\"': '<quotation_mark>',\n",
        "        ';': '<semicolon>',\n",
        "        '!': '<exclamation_mark>',\n",
        "        '?': '<question_mark>',\n",
        "        '(': '<left_parenthesis>',\n",
        "        ')': '<right_parenthesis>',\n",
        "        '--': '<dash>',\n",
        "        '\\n': '<return>'\n",
        "    }\n",
        "    \n",
        "    return token_dict\n",
        "\n",
        "\"\"\"\n",
        "DON'T MODIFY ANYTHING IN THIS CELL THAT IS BELOW THIS LINE\n",
        "\"\"\"\n",
        "tests.test_tokenize(token_lookup)"
      ],
      "execution_count": 11,
      "outputs": [
        {
          "output_type": "stream",
          "text": [
            "Tests Passed\n"
          ],
          "name": "stdout"
        }
      ]
    },
    {
      "metadata": {
        "id": "p7QdY1tzD3ji",
        "colab_type": "text"
      },
      "cell_type": "markdown",
      "source": [
        "## Preprocess all the data and save it\n",
        "Running the code cell below will preprocess all the data and save it to file."
      ]
    },
    {
      "metadata": {
        "id": "sa2Afw9AD3jj",
        "colab_type": "code",
        "colab": {}
      },
      "cell_type": "code",
      "source": [
        "\"\"\"\n",
        "DON'T MODIFY ANYTHING IN THIS CELL\n",
        "\"\"\"\n",
        "# Preprocess Training, Validation, and Testing Data\n",
        "helper.preprocess_and_save_data(data_dir, token_lookup, create_lookup_tables)"
      ],
      "execution_count": 0,
      "outputs": []
    },
    {
      "metadata": {
        "id": "98kHkqhUD3jm",
        "colab_type": "text"
      },
      "cell_type": "markdown",
      "source": [
        "# Check Point\n",
        "This is your first checkpoint. If you ever decide to come back to this notebook or have to restart the notebook, you can start from here. The preprocessed data has been saved to disk."
      ]
    },
    {
      "metadata": {
        "id": "OyxSJuEkD3jm",
        "colab_type": "code",
        "colab": {}
      },
      "cell_type": "code",
      "source": [
        "\"\"\"\n",
        "DON'T MODIFY ANYTHING IN THIS CELL\n",
        "\"\"\"\n",
        "import helper\n",
        "import numpy as np\n",
        "import problem_unittests as tests\n",
        "\n",
        "int_text, vocab_to_int, int_to_vocab, token_dict = helper.load_preprocess()"
      ],
      "execution_count": 0,
      "outputs": []
    },
    {
      "metadata": {
        "id": "NwMRdI27D3jp",
        "colab_type": "text"
      },
      "cell_type": "markdown",
      "source": [
        "## Build the Neural Network\n",
        "You'll build the components necessary to build a RNN by implementing the following functions below:\n",
        "- get_inputs\n",
        "- get_init_cell\n",
        "- get_embed\n",
        "- build_rnn\n",
        "- build_nn\n",
        "- get_batches\n",
        "\n",
        "### Check the Version of TensorFlow and Access to GPU"
      ]
    },
    {
      "metadata": {
        "id": "54MInjspD3jq",
        "colab_type": "code",
        "colab": {
          "base_uri": "https://localhost:8080/",
          "height": 50
        },
        "outputId": "a727f2f6-8615-4c20-d591-950bb692ac8f"
      },
      "cell_type": "code",
      "source": [
        "\"\"\"\n",
        "DON'T MODIFY ANYTHING IN THIS CELL\n",
        "\"\"\"\n",
        "\n",
        "# Check TensorFlow Version\n",
        "assert LooseVersion(tf.__version__) >= LooseVersion('1.3'), 'Please use TensorFlow version 1.3 or newer'\n",
        "print('TensorFlow Version: {}'.format(tf.__version__))\n",
        "\n",
        "# Check for a GPU\n",
        "if not tf.test.gpu_device_name():\n",
        "    warnings.warn('No GPU found. Please use a GPU to train your neural network.')\n",
        "else:\n",
        "    print('Default GPU Device: {}'.format(tf.test.gpu_device_name()))"
      ],
      "execution_count": 14,
      "outputs": [
        {
          "output_type": "stream",
          "text": [
            "TensorFlow Version: 1.13.1\n",
            "Default GPU Device: /device:GPU:0\n"
          ],
          "name": "stdout"
        }
      ]
    },
    {
      "metadata": {
        "id": "68QaZsWwD3ju",
        "colab_type": "text"
      },
      "cell_type": "markdown",
      "source": [
        "### Input\n",
        "Implement the `get_inputs()` function to create TF Placeholders for the Neural Network.  It should create the following placeholders:\n",
        "- Input text placeholder named \"input\" using the [TF Placeholder](https://www.tensorflow.org/api_docs/python/tf/placeholder) `name` parameter.\n",
        "- Targets placeholder\n",
        "- Learning Rate placeholder\n",
        "\n",
        "Return the placeholders in the following tuple `(Input, Targets, LearningRate)`"
      ]
    },
    {
      "metadata": {
        "id": "L1XtS7C2D3jv",
        "colab_type": "code",
        "colab": {
          "base_uri": "https://localhost:8080/",
          "height": 34
        },
        "outputId": "9488d538-5d50-4cc6-ebb0-c8d887bb478d"
      },
      "cell_type": "code",
      "source": [
        "def get_inputs():\n",
        "    \"\"\"\n",
        "    Create TF Placeholders for input, targets, and learning rate.\n",
        "    \n",
        "    OUTPUT:\n",
        "      Tuple (input, targets, learning rate)\n",
        "    \"\"\"\n",
        "    # TODO: Implement Function\n",
        "    \n",
        "    input   = tf.placeholder(tf.int32, [None, None], name = 'input')\n",
        "    targets = tf.placeholder(tf.int32, [None, None], name = 'targets')\n",
        "    lr      = tf.placeholder(tf.float32, name = 'lr')\n",
        "    \n",
        "    return input, targets, lr\n",
        "\n",
        "\n",
        "\"\"\"\n",
        "DON'T MODIFY ANYTHING IN THIS CELL THAT IS BELOW THIS LINE\n",
        "\"\"\"\n",
        "tests.test_get_inputs(get_inputs)"
      ],
      "execution_count": 15,
      "outputs": [
        {
          "output_type": "stream",
          "text": [
            "Tests Passed\n"
          ],
          "name": "stdout"
        }
      ]
    },
    {
      "metadata": {
        "id": "c2uWU7HHD3jz",
        "colab_type": "text"
      },
      "cell_type": "markdown",
      "source": [
        "### Build RNN Cell and Initialize\n",
        "Stack one or more [`BasicLSTMCells`](https://www.tensorflow.org/api_docs/python/tf/contrib/rnn/BasicLSTMCell) in a [`MultiRNNCell`](https://www.tensorflow.org/api_docs/python/tf/contrib/rnn/MultiRNNCell).\n",
        "- The Rnn size should be set using `rnn_size`\n",
        "- Initalize Cell State using the MultiRNNCell's [`zero_state()`](https://www.tensorflow.org/api_docs/python/tf/contrib/rnn/MultiRNNCell#zero_state) function\n",
        "    - Apply the name \"initial_state\" to the initial state using [`tf.identity()`](https://www.tensorflow.org/api_docs/python/tf/identity)\n",
        "\n",
        "Return the cell and initial state in the following tuple `(Cell, InitialState)`"
      ]
    },
    {
      "metadata": {
        "id": "ICKoTqnWD3jz",
        "colab_type": "code",
        "colab": {
          "base_uri": "https://localhost:8080/",
          "height": 154
        },
        "outputId": "cb48b798-d9ba-47f5-e703-48f0fd35121b"
      },
      "cell_type": "code",
      "source": [
        "def get_init_cell(batch_size, rnn_size, keep_p = 0.2, layer_n = 1):\n",
        "    \"\"\"\n",
        "    Create an LSTM Cell and initialize it.\n",
        "    INPUT:\n",
        "      batch_size: Size of batches\n",
        "      rnn_size: Size of LSTMs\n",
        "      keep_p: Percentage of Output to be kept\n",
        "      layer_n: layer of LSTM (if 1 leads to underfitting, then increase it.)\n",
        "    OUTPUT:\n",
        "      Tuple (cell, initialize state)\n",
        "    \"\"\"\n",
        "    # TODO: Implement Function\n",
        "    \n",
        "    \n",
        "    #---------cell---------\n",
        "    \n",
        "    # Create basic a LSTM cell\n",
        "    lstm = tf.contrib.rnn.BasicLSTMCell(rnn_size)\n",
        "    \n",
        "    # lstm cell with 20% of output dropped out\n",
        "    lstm_dropped = tf.contrib.rnn.DropoutWrapper(lstm, output_keep_prob = keep_p)\n",
        "    \n",
        "    # Add more layers to cell\n",
        "    cell = tf.contrib.rnn.MultiRNNCell([lstm_dropped] * layer_n)\n",
        "    \n",
        "    \n",
        "    # ------initial state------\n",
        "    \n",
        "    # Create Initial State\n",
        "    initial_state = cell.zero_state(batch_size, tf.float32)\n",
        "    \n",
        "    # Name Initial State\n",
        "    initial_state = tf.identity(initial_state, name = \"initial_state\")\n",
        "\n",
        "    \n",
        "    return cell, initial_state\n",
        "\n",
        "\n",
        "\"\"\"\n",
        "DON'T MODIFY ANYTHING IN THIS CELL THAT IS BELOW THIS LINE\n",
        "\"\"\"\n",
        "tests.test_get_init_cell(get_init_cell)"
      ],
      "execution_count": 16,
      "outputs": [
        {
          "output_type": "stream",
          "text": [
            "WARNING:tensorflow:From <ipython-input-16-fb97d4ca9e8b>:18: BasicLSTMCell.__init__ (from tensorflow.python.ops.rnn_cell_impl) is deprecated and will be removed in a future version.\n",
            "Instructions for updating:\n",
            "This class is equivalent as tf.keras.layers.LSTMCell, and will be replaced by that in Tensorflow 2.0.\n",
            "WARNING:tensorflow:From <ipython-input-16-fb97d4ca9e8b>:24: MultiRNNCell.__init__ (from tensorflow.python.ops.rnn_cell_impl) is deprecated and will be removed in a future version.\n",
            "Instructions for updating:\n",
            "This class is equivalent as tf.keras.layers.StackedRNNCells, and will be replaced by that in Tensorflow 2.0.\n",
            "Tests Passed\n"
          ],
          "name": "stdout"
        }
      ]
    },
    {
      "metadata": {
        "id": "7rxZ-DdXD3j2",
        "colab_type": "text"
      },
      "cell_type": "markdown",
      "source": [
        "### Word Embedding\n",
        "Apply embedding to `input_data` using TensorFlow.  Return the embedded sequence."
      ]
    },
    {
      "metadata": {
        "id": "J4towHtED3j3",
        "colab_type": "code",
        "colab": {
          "base_uri": "https://localhost:8080/",
          "height": 104
        },
        "outputId": "3cfa0816-31a4-42d5-855e-5b20c998f4a6"
      },
      "cell_type": "code",
      "source": [
        "def get_embed(input_data, vocab_size, embed_dim):\n",
        "    \"\"\"\n",
        "    Create embedding for <input_data>.\n",
        "    INPUT:\n",
        "      input_data: TF placeholder for text input.\n",
        "      vocab_size: Number of words in vocabulary.\n",
        "      embed_dim: Number of embedding dimensions\n",
        "    OUTPUT:\n",
        "      Embedded input.\n",
        "    \"\"\"\n",
        "    # TODO: Implement Function\n",
        "    embedding = tf.Variable(tf.random_uniform((vocab_size, embed_dim), -1, 1))\n",
        "    embed_input = tf.nn.embedding_lookup(embedding, input_data)\n",
        "    \n",
        "    return embed_input\n",
        "\n",
        "\n",
        "\"\"\"\n",
        "DON'T MODIFY ANYTHING IN THIS CELL THAT IS BELOW THIS LINE\n",
        "\"\"\"\n",
        "tests.test_get_embed(get_embed)"
      ],
      "execution_count": 17,
      "outputs": [
        {
          "output_type": "stream",
          "text": [
            "WARNING:tensorflow:From /usr/local/lib/python3.6/dist-packages/tensorflow/python/framework/op_def_library.py:263: colocate_with (from tensorflow.python.framework.ops) is deprecated and will be removed in a future version.\n",
            "Instructions for updating:\n",
            "Colocations handled automatically by placer.\n",
            "Tests Passed\n"
          ],
          "name": "stdout"
        }
      ]
    },
    {
      "metadata": {
        "id": "F-sfjd7mD3j6",
        "colab_type": "text"
      },
      "cell_type": "markdown",
      "source": [
        "### Build RNN\n",
        "You created a RNN Cell in the `get_init_cell()` function.  Time to use the cell to create a RNN.\n",
        "- Build the RNN using the [`tf.nn.dynamic_rnn()`](https://www.tensorflow.org/api_docs/python/tf/nn/dynamic_rnn)\n",
        " - Apply the name \"final_state\" to the final state using [`tf.identity()`](https://www.tensorflow.org/api_docs/python/tf/identity)\n",
        "\n",
        "Return the outputs and final_state state in the following tuple `(Outputs, FinalState)` "
      ]
    },
    {
      "metadata": {
        "id": "1XDK76O-D3j6",
        "colab_type": "code",
        "colab": {
          "base_uri": "https://localhost:8080/",
          "height": 104
        },
        "outputId": "dd77b2da-dc99-4edf-ae80-b1ff81ced3a2"
      },
      "cell_type": "code",
      "source": [
        "def build_rnn(cell, embed_input):\n",
        "    \"\"\"\n",
        "    Create a RNN using a RNN Cell\n",
        "    INPUT:\n",
        "      cell: RNN Cell\n",
        "      inputs: Input text data that has been embedded\n",
        "    OUTPUT:\n",
        "      Tuple (Outputs, Final State)\n",
        "    \"\"\"\n",
        "    # TODO: Implement Function\n",
        "    \n",
        "    # Create RNN\n",
        "    outputs, final_state = tf.nn.dynamic_rnn(cell, embed_input, dtype = tf.float32)\n",
        "    # -- without initial_state, we must specifiy dtype\n",
        "    \n",
        "    # Name final_state\n",
        "    final_state = tf.identity(final_state, name = 'final_state')\n",
        "    \n",
        "    return outputs, final_state\n",
        "\n",
        "\n",
        "\"\"\"\n",
        "DON'T MODIFY ANYTHING IN THIS CELL THAT IS BELOW THIS LINE\n",
        "\"\"\"\n",
        "tests.test_build_rnn(build_rnn)"
      ],
      "execution_count": 18,
      "outputs": [
        {
          "output_type": "stream",
          "text": [
            "WARNING:tensorflow:From <ipython-input-18-2934d466823b>:13: dynamic_rnn (from tensorflow.python.ops.rnn) is deprecated and will be removed in a future version.\n",
            "Instructions for updating:\n",
            "Please use `keras.layers.RNN(cell)`, which is equivalent to this API\n",
            "Tests Passed\n"
          ],
          "name": "stdout"
        }
      ]
    },
    {
      "metadata": {
        "id": "Lo6_8XCBD3j9",
        "colab_type": "text"
      },
      "cell_type": "markdown",
      "source": [
        "### Build the Neural Network\n",
        "Apply the functions you implemented above to:\n",
        "- Apply embedding to `input_data` using your `get_embed(input_data, vocab_size, embed_dim)` function.\n",
        "- Build RNN using `cell` and your `build_rnn(cell, inputs)` function.\n",
        "- Apply a fully connected layer with a linear activation and `vocab_size` as the number of outputs.\n",
        "\n",
        "Return the logits and final state in the following tuple (Logits, FinalState) "
      ]
    },
    {
      "metadata": {
        "id": "WWlpBJU8D3j9",
        "colab_type": "code",
        "colab": {
          "base_uri": "https://localhost:8080/",
          "height": 34
        },
        "outputId": "edf9a49a-24f3-4916-fb22-13ed68af64ab"
      },
      "cell_type": "code",
      "source": [
        "def build_nn(cell, rnn_size, input_data, vocab_size, embed_dim):\n",
        "    \"\"\"\n",
        "    Build part of the neural network\n",
        "    INPUT: \n",
        "       cell: RNN cell\n",
        "       rnn_size: Size of rnns\n",
        "       input_data: Input data\n",
        "       vocab_size: Vocabulary size\n",
        "       embed_dim: Number of embedding dimensions\n",
        "    OUTPUT:\n",
        "      Tuple (Logits, FinalState)\n",
        "    \"\"\"\n",
        "    # TODO: Implement Function\n",
        "    \n",
        "    # Apply embedding to input_data\n",
        "    embed_input = get_embed(input_data, vocab_size, embed_dim)\n",
        "    \n",
        "    # Build RNN\n",
        "    outputs, final_state = build_rnn(cell, embed_input)\n",
        "    \n",
        "    # Apply a fully connected layer \n",
        "    #    with a linear activation and \n",
        "    #    vocab_size as the number of outputs  \n",
        "    logits = tf.contrib.layers.fully_connected(outputs, vocab_size,\n",
        "                                              activation_fn = None)\n",
        "    \n",
        "    return logits, final_state\n",
        "\n",
        "\"\"\"\n",
        "DON'T MODIFY ANYTHING IN THIS CELL THAT IS BELOW THIS LINE\n",
        "\"\"\"\n",
        "tests.test_build_nn(build_nn)"
      ],
      "execution_count": 19,
      "outputs": [
        {
          "output_type": "stream",
          "text": [
            "Tests Passed\n"
          ],
          "name": "stdout"
        }
      ]
    },
    {
      "metadata": {
        "id": "BOBWpvhND3kA",
        "colab_type": "text"
      },
      "cell_type": "markdown",
      "source": [
        "### Batches\n",
        "Implement `get_batches` to create batches of input and targets using `int_text`.  The batches should be a Numpy array with the shape `(number of batches, 2, batch size, sequence length)`. Each batch contains two elements:\n",
        "- The first element is a single batch of **input** with the shape `[batch size, sequence length]`\n",
        "- The second element is a single batch of **targets** with the shape `[batch size, sequence length]`\n",
        "\n",
        "If you can't fill the last batch with enough data, drop the last batch.\n",
        "\n",
        "For example, `get_batches([1, 2, 3, 4, 5, 6, 7, 8, 9, 10, 11, 12, 13, 14, 15, 16, 17, 18, 19, 20], 3, 2)` would return a Numpy array of the following:\n",
        "```\n",
        "[\n",
        "  # First Batch\n",
        "  [\n",
        "    # Batch of Input\n",
        "    [[ 1  2], [ 7  8], [13 14]]\n",
        "    # Batch of targets\n",
        "    [[ 2  3], [ 8  9], [14 15]]\n",
        "  ]\n",
        "\n",
        "  # Second Batch\n",
        "  [\n",
        "    # Batch of Input\n",
        "    [[ 3  4], [ 9 10], [15 16]]\n",
        "    # Batch of targets\n",
        "    [[ 4  5], [10 11], [16 17]]\n",
        "  ]\n",
        "\n",
        "  # Third Batch\n",
        "  [\n",
        "    # Batch of Input\n",
        "    [[ 5  6], [11 12], [17 18]]\n",
        "    # Batch of targets\n",
        "    [[ 6  7], [12 13], [18  1]]\n",
        "  ]\n",
        "]\n",
        "```\n",
        "\n",
        "Notice that the last target value in the last batch is the first input value of the first batch. In this case, `1`. This is a common technique used when creating sequence batches, although it is rather unintuitive."
      ]
    },
    {
      "metadata": {
        "id": "S4oT_NM-D3kB",
        "colab_type": "code",
        "colab": {
          "base_uri": "https://localhost:8080/",
          "height": 34
        },
        "outputId": "facd4ca2-7382-46fd-acbb-7c28d0c3688d"
      },
      "cell_type": "code",
      "source": [
        "def get_batches(int_text, batch_size, seq_length):\n",
        "    \"\"\"\n",
        "    Return batches of input and target\n",
        "    INPUT: \n",
        "       int_text: Text with the words replaced by their ids\n",
        "       batch_size: The size of batch\n",
        "       seq_length: The length of sequence\n",
        "    OUTPUT: \n",
        "       Batches as a Numpy array\n",
        "    \"\"\"\n",
        "    # TODO: Implement Function\n",
        "    \n",
        "    # Calculate the number of batches\n",
        "    n_batch = len(int_text) // (batch_size * seq_length)\n",
        "\n",
        "    # Only keep full batches (add one extra element for targets)\n",
        "    text = np.array(int_text[: n_batch * batch_size * seq_length + 1])\n",
        "    \n",
        "    # The last element of targets should be same as 1st input\n",
        "    text[-1] = text[0]\n",
        "    \n",
        "    x = np.split(text[:-1].reshape(batch_size, -1), n_batch, 1)\n",
        "    y = np.split(text[1:].reshape(batch_size, -1), n_batch, 1)\n",
        "    # -- numpy.split(ary, indices_or_sections, axis=0)\n",
        "    \n",
        "    batches = np.array(list(zip(x, y)))\n",
        "    \n",
        "    return batches\n",
        "\n",
        "\n",
        "\"\"\"\n",
        "DON'T MODIFY ANYTHING IN THIS CELL THAT IS BELOW THIS LINE\n",
        "\"\"\"\n",
        "tests.test_get_batches(get_batches)"
      ],
      "execution_count": 20,
      "outputs": [
        {
          "output_type": "stream",
          "text": [
            "Tests Passed\n"
          ],
          "name": "stdout"
        }
      ]
    },
    {
      "metadata": {
        "id": "kxntKSVXD3kE",
        "colab_type": "text"
      },
      "cell_type": "markdown",
      "source": [
        "## Neural Network Training\n",
        "### Hyperparameters\n",
        "Tune the following parameters:\n",
        "\n",
        "- Set `num_epochs` to the number of epochs.\n",
        "- Set `batch_size` to the batch size.\n",
        "- Set `rnn_size` to the size of the RNNs.\n",
        "- Set `embed_dim` to the size of the embedding.\n",
        "- Set `seq_length` to the length of sequence.\n",
        "- Set `learning_rate` to the learning rate.\n",
        "- Set `show_every_n_batches` to the number of batches the neural network should print progress."
      ]
    },
    {
      "metadata": {
        "id": "MIDyBKIAD3kF",
        "colab_type": "code",
        "colab": {}
      },
      "cell_type": "code",
      "source": [
        "# Number of Epochs\n",
        "num_epochs = 500\n",
        "# Batch Size\n",
        "batch_size = 256\n",
        "# RNN Size\n",
        "rnn_size = 256\n",
        "# Embedding Dimension Size\n",
        "embed_dim = 300\n",
        "# Sequence Length\n",
        "seq_length = 20\n",
        "# Learning Rate\n",
        "learning_rate = 0.01\n",
        "# Show stats for every n number of batches\n",
        "show_every_n_batches = 50\n",
        "\n",
        "\"\"\"\n",
        "DON'T MODIFY ANYTHING IN THIS CELL THAT IS BELOW THIS LINE\n",
        "\"\"\"\n",
        "save_dir = './save'"
      ],
      "execution_count": 0,
      "outputs": []
    },
    {
      "metadata": {
        "id": "oMc5HjZ1D3kJ",
        "colab_type": "text"
      },
      "cell_type": "markdown",
      "source": [
        "### Build the Graph\n",
        "Build the graph using the neural network you implemented."
      ]
    },
    {
      "metadata": {
        "id": "xzZHuCiKD3kL",
        "colab_type": "code",
        "colab": {}
      },
      "cell_type": "code",
      "source": [
        "\"\"\"\n",
        "DON'T MODIFY ANYTHING IN THIS CELL\n",
        "\"\"\"\n",
        "from tensorflow.contrib import seq2seq\n",
        "\n",
        "train_graph = tf.Graph()\n",
        "with train_graph.as_default():\n",
        "    vocab_size = len(int_to_vocab)\n",
        "    input_text, targets, lr = get_inputs()\n",
        "    input_data_shape = tf.shape(input_text)\n",
        "    cell, initial_state = get_init_cell(input_data_shape[0], rnn_size)\n",
        "    logits, final_state = build_nn(cell, rnn_size, input_text, vocab_size, embed_dim)\n",
        "\n",
        "    # Probabilities for generating words\n",
        "    probs = tf.nn.softmax(logits, name='probs')\n",
        "\n",
        "    # Loss function\n",
        "    cost = seq2seq.sequence_loss(\n",
        "        logits,\n",
        "        targets,\n",
        "        tf.ones([input_data_shape[0], input_data_shape[1]]))\n",
        "\n",
        "    # Optimizer\n",
        "    optimizer = tf.train.AdamOptimizer(lr)\n",
        "\n",
        "    # Gradient Clipping\n",
        "    gradients = optimizer.compute_gradients(cost)\n",
        "    capped_gradients = [(tf.clip_by_value(grad, -1., 1.), var) for grad, var in gradients if grad is not None]\n",
        "    train_op = optimizer.apply_gradients(capped_gradients)"
      ],
      "execution_count": 0,
      "outputs": []
    },
    {
      "metadata": {
        "id": "qz7axxcbD3kR",
        "colab_type": "text"
      },
      "cell_type": "markdown",
      "source": [
        "## Train\n",
        "Train the neural network on the preprocessed data.  If you have a hard time getting a good loss, check the [forums](https://discussions.udacity.com/) to see if anyone is having the same problem."
      ]
    },
    {
      "metadata": {
        "id": "fbGWyvHDD3kR",
        "colab_type": "code",
        "colab": {
          "base_uri": "https://localhost:8080/",
          "height": 2218
        },
        "outputId": "3f9d0e23-6598-442a-ff6e-58f4bec9e1f4"
      },
      "cell_type": "code",
      "source": [
        "\"\"\"\n",
        "DON'T MODIFY ANYTHING IN THIS CELL\n",
        "\"\"\"\n",
        "batches = get_batches(int_text, batch_size, seq_length)\n",
        "\n",
        "with tf.Session(graph=train_graph) as sess:\n",
        "    sess.run(tf.global_variables_initializer())\n",
        "\n",
        "    for epoch_i in range(num_epochs):\n",
        "        state = sess.run(initial_state, {input_text: batches[0][0]})\n",
        "\n",
        "        for batch_i, (x, y) in enumerate(batches):\n",
        "            feed = {\n",
        "                input_text: x,\n",
        "                targets: y,\n",
        "                initial_state: state,\n",
        "                lr: learning_rate}\n",
        "            train_loss, state, _ = sess.run([cost, final_state, train_op], feed)\n",
        "\n",
        "            # Show every <show_every_n_batches> batches\n",
        "            if (epoch_i * len(batches) + batch_i) % show_every_n_batches == 0:\n",
        "                print('Epoch {:>3} Batch {:>4}/{}   train_loss = {:.3f}'.format(\n",
        "                    epoch_i,\n",
        "                    batch_i,\n",
        "                    len(batches),\n",
        "                    train_loss))\n",
        "\n",
        "    # Save Model\n",
        "    saver = tf.train.Saver()\n",
        "    saver.save(sess, save_dir)\n",
        "    print('Model Trained and Saved')"
      ],
      "execution_count": 43,
      "outputs": [
        {
          "output_type": "stream",
          "text": [
            "Epoch   0 Batch    0/13   train_loss = 8.822\n",
            "Epoch   3 Batch   11/13   train_loss = 5.057\n",
            "Epoch   7 Batch    9/13   train_loss = 4.631\n",
            "Epoch  11 Batch    7/13   train_loss = 4.243\n",
            "Epoch  15 Batch    5/13   train_loss = 3.992\n",
            "Epoch  19 Batch    3/13   train_loss = 3.770\n",
            "Epoch  23 Batch    1/13   train_loss = 3.520\n",
            "Epoch  26 Batch   12/13   train_loss = 3.486\n",
            "Epoch  30 Batch   10/13   train_loss = 3.286\n",
            "Epoch  34 Batch    8/13   train_loss = 3.207\n",
            "Epoch  38 Batch    6/13   train_loss = 3.135\n",
            "Epoch  42 Batch    4/13   train_loss = 3.072\n",
            "Epoch  46 Batch    2/13   train_loss = 3.043\n",
            "Epoch  50 Batch    0/13   train_loss = 2.929\n",
            "Epoch  53 Batch   11/13   train_loss = 2.823\n",
            "Epoch  57 Batch    9/13   train_loss = 2.844\n",
            "Epoch  61 Batch    7/13   train_loss = 2.799\n",
            "Epoch  65 Batch    5/13   train_loss = 2.870\n",
            "Epoch  69 Batch    3/13   train_loss = 2.763\n",
            "Epoch  73 Batch    1/13   train_loss = 2.642\n",
            "Epoch  76 Batch   12/13   train_loss = 2.647\n",
            "Epoch  80 Batch   10/13   train_loss = 2.636\n",
            "Epoch  84 Batch    8/13   train_loss = 2.556\n",
            "Epoch  88 Batch    6/13   train_loss = 2.551\n",
            "Epoch  92 Batch    4/13   train_loss = 2.570\n",
            "Epoch  96 Batch    2/13   train_loss = 2.526\n",
            "Epoch 100 Batch    0/13   train_loss = 2.448\n",
            "Epoch 103 Batch   11/13   train_loss = 2.427\n",
            "Epoch 107 Batch    9/13   train_loss = 2.405\n",
            "Epoch 111 Batch    7/13   train_loss = 2.368\n",
            "Epoch 115 Batch    5/13   train_loss = 2.411\n",
            "Epoch 119 Batch    3/13   train_loss = 2.405\n",
            "Epoch 123 Batch    1/13   train_loss = 2.327\n",
            "Epoch 126 Batch   12/13   train_loss = 2.326\n",
            "Epoch 130 Batch   10/13   train_loss = 2.348\n",
            "Epoch 134 Batch    8/13   train_loss = 2.300\n",
            "Epoch 138 Batch    6/13   train_loss = 2.319\n",
            "Epoch 142 Batch    4/13   train_loss = 2.307\n",
            "Epoch 146 Batch    2/13   train_loss = 2.326\n",
            "Epoch 150 Batch    0/13   train_loss = 2.282\n",
            "Epoch 153 Batch   11/13   train_loss = 2.302\n",
            "Epoch 157 Batch    9/13   train_loss = 2.226\n",
            "Epoch 161 Batch    7/13   train_loss = 2.240\n",
            "Epoch 165 Batch    5/13   train_loss = 2.307\n",
            "Epoch 169 Batch    3/13   train_loss = 2.315\n",
            "Epoch 173 Batch    1/13   train_loss = 2.217\n",
            "Epoch 176 Batch   12/13   train_loss = 2.281\n",
            "Epoch 180 Batch   10/13   train_loss = 2.230\n",
            "Epoch 184 Batch    8/13   train_loss = 2.229\n",
            "Epoch 188 Batch    6/13   train_loss = 2.208\n",
            "Epoch 192 Batch    4/13   train_loss = 2.190\n",
            "Epoch 196 Batch    2/13   train_loss = 2.215\n",
            "Epoch 200 Batch    0/13   train_loss = 2.157\n",
            "Epoch 203 Batch   11/13   train_loss = 2.149\n",
            "Epoch 207 Batch    9/13   train_loss = 2.101\n",
            "Epoch 211 Batch    7/13   train_loss = 2.089\n",
            "Epoch 215 Batch    5/13   train_loss = 2.222\n",
            "Epoch 219 Batch    3/13   train_loss = 2.208\n",
            "Epoch 223 Batch    1/13   train_loss = 2.158\n",
            "Epoch 226 Batch   12/13   train_loss = 2.200\n",
            "Epoch 230 Batch   10/13   train_loss = 2.153\n",
            "Epoch 234 Batch    8/13   train_loss = 2.116\n",
            "Epoch 238 Batch    6/13   train_loss = 2.114\n",
            "Epoch 242 Batch    4/13   train_loss = 2.129\n",
            "Epoch 246 Batch    2/13   train_loss = 2.209\n",
            "Epoch 250 Batch    0/13   train_loss = 2.100\n",
            "Epoch 253 Batch   11/13   train_loss = 2.158\n",
            "Epoch 257 Batch    9/13   train_loss = 2.119\n",
            "Epoch 261 Batch    7/13   train_loss = 2.090\n",
            "Epoch 265 Batch    5/13   train_loss = 2.199\n",
            "Epoch 269 Batch    3/13   train_loss = 2.145\n",
            "Epoch 273 Batch    1/13   train_loss = 2.139\n",
            "Epoch 276 Batch   12/13   train_loss = 2.090\n",
            "Epoch 280 Batch   10/13   train_loss = 2.117\n",
            "Epoch 284 Batch    8/13   train_loss = 2.113\n",
            "Epoch 288 Batch    6/13   train_loss = 2.135\n",
            "Epoch 292 Batch    4/13   train_loss = 2.115\n",
            "Epoch 296 Batch    2/13   train_loss = 2.151\n",
            "Epoch 300 Batch    0/13   train_loss = 2.041\n",
            "Epoch 303 Batch   11/13   train_loss = 2.068\n",
            "Epoch 307 Batch    9/13   train_loss = 2.085\n",
            "Epoch 311 Batch    7/13   train_loss = 2.079\n",
            "Epoch 315 Batch    5/13   train_loss = 2.143\n",
            "Epoch 319 Batch    3/13   train_loss = 2.174\n",
            "Epoch 323 Batch    1/13   train_loss = 2.120\n",
            "Epoch 326 Batch   12/13   train_loss = 2.083\n",
            "Epoch 330 Batch   10/13   train_loss = 2.115\n",
            "Epoch 334 Batch    8/13   train_loss = 2.092\n",
            "Epoch 338 Batch    6/13   train_loss = 2.076\n",
            "Epoch 342 Batch    4/13   train_loss = 2.099\n",
            "Epoch 346 Batch    2/13   train_loss = 2.157\n",
            "Epoch 350 Batch    0/13   train_loss = 2.052\n",
            "Epoch 353 Batch   11/13   train_loss = 2.093\n",
            "Epoch 357 Batch    9/13   train_loss = 2.080\n",
            "Epoch 361 Batch    7/13   train_loss = 2.125\n",
            "Epoch 365 Batch    5/13   train_loss = 2.141\n",
            "Epoch 369 Batch    3/13   train_loss = 2.101\n",
            "Epoch 373 Batch    1/13   train_loss = 2.117\n",
            "Epoch 376 Batch   12/13   train_loss = 2.088\n",
            "Epoch 380 Batch   10/13   train_loss = 2.095\n",
            "Epoch 384 Batch    8/13   train_loss = 2.056\n",
            "Epoch 388 Batch    6/13   train_loss = 2.068\n",
            "Epoch 392 Batch    4/13   train_loss = 2.075\n",
            "Epoch 396 Batch    2/13   train_loss = 2.075\n",
            "Epoch 400 Batch    0/13   train_loss = 2.055\n",
            "Epoch 403 Batch   11/13   train_loss = 2.102\n",
            "Epoch 407 Batch    9/13   train_loss = 2.049\n",
            "Epoch 411 Batch    7/13   train_loss = 2.046\n",
            "Epoch 415 Batch    5/13   train_loss = 2.131\n",
            "Epoch 419 Batch    3/13   train_loss = 2.154\n",
            "Epoch 423 Batch    1/13   train_loss = 2.118\n",
            "Epoch 426 Batch   12/13   train_loss = 2.121\n",
            "Epoch 430 Batch   10/13   train_loss = 2.097\n",
            "Epoch 434 Batch    8/13   train_loss = 2.068\n",
            "Epoch 438 Batch    6/13   train_loss = 2.083\n",
            "Epoch 442 Batch    4/13   train_loss = 2.103\n",
            "Epoch 446 Batch    2/13   train_loss = 2.122\n",
            "Epoch 450 Batch    0/13   train_loss = 2.072\n",
            "Epoch 453 Batch   11/13   train_loss = 2.106\n",
            "Epoch 457 Batch    9/13   train_loss = 2.056\n",
            "Epoch 461 Batch    7/13   train_loss = 2.019\n",
            "Epoch 465 Batch    5/13   train_loss = 2.163\n",
            "Epoch 469 Batch    3/13   train_loss = 2.182\n",
            "Epoch 473 Batch    1/13   train_loss = 2.100\n",
            "Epoch 476 Batch   12/13   train_loss = 2.135\n",
            "Epoch 480 Batch   10/13   train_loss = 2.135\n",
            "Epoch 484 Batch    8/13   train_loss = 2.050\n",
            "Epoch 488 Batch    6/13   train_loss = 2.095\n",
            "Epoch 492 Batch    4/13   train_loss = 2.073\n",
            "Epoch 496 Batch    2/13   train_loss = 2.122\n",
            "Model Trained and Saved\n"
          ],
          "name": "stdout"
        }
      ]
    },
    {
      "metadata": {
        "id": "btyNVh5_D3kU",
        "colab_type": "text"
      },
      "cell_type": "markdown",
      "source": [
        "## Save Parameters\n",
        "Save `seq_length` and `save_dir` for generating a new TV script."
      ]
    },
    {
      "metadata": {
        "id": "EjiGEAk9D3kV",
        "colab_type": "code",
        "colab": {}
      },
      "cell_type": "code",
      "source": [
        "\"\"\"\n",
        "DON'T MODIFY ANYTHING IN THIS CELL\n",
        "\"\"\"\n",
        "# Save parameters for checkpoint\n",
        "helper.save_params((seq_length, save_dir))"
      ],
      "execution_count": 0,
      "outputs": []
    },
    {
      "metadata": {
        "id": "IV99i84xD3kY",
        "colab_type": "text"
      },
      "cell_type": "markdown",
      "source": [
        "# Checkpoint"
      ]
    },
    {
      "metadata": {
        "id": "r-3V39LhD3kY",
        "colab_type": "code",
        "colab": {}
      },
      "cell_type": "code",
      "source": [
        "\"\"\"\n",
        "DON'T MODIFY ANYTHING IN THIS CELL\n",
        "\"\"\"\n",
        "_, vocab_to_int, int_to_vocab, token_dict = helper.load_preprocess()\n",
        "seq_length, load_dir = helper.load_params()"
      ],
      "execution_count": 0,
      "outputs": []
    },
    {
      "metadata": {
        "id": "2IbepbJAD3kb",
        "colab_type": "text"
      },
      "cell_type": "markdown",
      "source": [
        "## Implement Generate Functions\n",
        "### Get Tensors\n",
        "Get tensors from `loaded_graph` using the function [`get_tensor_by_name()`](https://www.tensorflow.org/api_docs/python/tf/Graph#get_tensor_by_name).  Get the tensors using the following names:\n",
        "- \"input:0\"\n",
        "- \"initial_state:0\"\n",
        "- \"final_state:0\"\n",
        "- \"probs:0\"\n",
        "\n",
        "Return the tensors in the following tuple `(InputTensor, InitialStateTensor, FinalStateTensor, ProbsTensor)` "
      ]
    },
    {
      "metadata": {
        "id": "H5J29k_AD3kb",
        "colab_type": "code",
        "colab": {
          "base_uri": "https://localhost:8080/",
          "height": 34
        },
        "outputId": "eeabe3fe-448f-445d-a9e8-2e91a903670c"
      },
      "cell_type": "code",
      "source": [
        "def get_tensors(loaded_graph):\n",
        "    \"\"\"\n",
        "    Get input, initial state, final state, and probabilities tensor from <loaded_graph>\n",
        "    INPUT:\n",
        "      loaded_graph: TensorFlow graph loaded from file\n",
        "    OUTPUT:\n",
        "      Tuple (InputTensor, InitialStateTensor, FinalStateTensor, ProbsTensor)\n",
        "    \"\"\"\n",
        "    # TODO: Implement Function\n",
        "    inputs         = loaded_graph.get_tensor_by_name(\"input:0\")\n",
        "    initial_state = loaded_graph.get_tensor_by_name(\"initial_state:0\")\n",
        "    final_state   = loaded_graph.get_tensor_by_name(\"final_state:0\")\n",
        "    probs         = loaded_graph.get_tensor_by_name(\"probs:0\")\n",
        "    \n",
        "    return inputs, initial_state, final_state, probs\n",
        "\n",
        "\n",
        "\"\"\"\n",
        "DON'T MODIFY ANYTHING IN THIS CELL THAT IS BELOW THIS LINE\n",
        "\"\"\"\n",
        "tests.test_get_tensors(get_tensors)"
      ],
      "execution_count": 46,
      "outputs": [
        {
          "output_type": "stream",
          "text": [
            "Tests Passed\n"
          ],
          "name": "stdout"
        }
      ]
    },
    {
      "metadata": {
        "id": "n8Eiw3ohD3ke",
        "colab_type": "text"
      },
      "cell_type": "markdown",
      "source": [
        "### Choose Word\n",
        "Implement the `pick_word()` function to select the next word using `probabilities`."
      ]
    },
    {
      "metadata": {
        "id": "2m6kz4_jD3ke",
        "colab_type": "code",
        "colab": {
          "base_uri": "https://localhost:8080/",
          "height": 34
        },
        "outputId": "6358dc60-d11d-43a4-f3a8-5613ca786b4e"
      },
      "cell_type": "code",
      "source": [
        "def pick_word(probabilities, int_to_vocab):\n",
        "    \"\"\"\n",
        "    Pick the next word in the generated text\n",
        "    INPUT:\n",
        "      probabilities: Probabilites of the next word\n",
        "      int_to_vocab: Dictionary of word ids as the keys and words as the values\n",
        "    OUPUT:\n",
        "      String of the predicted word\n",
        "    \"\"\"\n",
        "    # TODO: Implement Function    \n",
        "    return int_to_vocab[np.argmax(probabilities)]\n",
        "    # --numpy.argmax(a, axis=None, out=None) \n",
        "    #      Returns the indices of the maximum values along an axis.\n",
        "\n",
        "\n",
        "\n",
        "\"\"\"\n",
        "DON'T MODIFY ANYTHING IN THIS CELL THAT IS BELOW THIS LINE\n",
        "\"\"\"\n",
        "tests.test_pick_word(pick_word)"
      ],
      "execution_count": 47,
      "outputs": [
        {
          "output_type": "stream",
          "text": [
            "Tests Passed\n"
          ],
          "name": "stdout"
        }
      ]
    },
    {
      "metadata": {
        "id": "XhU4-Ev3D3kh",
        "colab_type": "text"
      },
      "cell_type": "markdown",
      "source": [
        "## Generate TV Script\n",
        "This will generate the TV script for you.  Set `gen_length` to the length of TV script you want to generate."
      ]
    },
    {
      "metadata": {
        "id": "kfewVjOxD3kh",
        "colab_type": "code",
        "colab": {
          "base_uri": "https://localhost:8080/",
          "height": 373
        },
        "outputId": "c9ae7d45-3a12-4ef3-e92c-43e65552411f"
      },
      "cell_type": "code",
      "source": [
        "gen_length = 200\n",
        "# homer_simpson, moe_szyslak, or Barney_Gumble\n",
        "prime_word = 'moe_szyslak'\n",
        "\n",
        "\"\"\"\n",
        "DON'T MODIFY ANYTHING IN THIS CELL THAT IS BELOW THIS LINE\n",
        "\"\"\"\n",
        "loaded_graph = tf.Graph()\n",
        "with tf.Session(graph=loaded_graph) as sess:\n",
        "    # Load saved model\n",
        "    loader = tf.train.import_meta_graph(load_dir + '.meta')\n",
        "    loader.restore(sess, load_dir)\n",
        "\n",
        "    # Get Tensors from loaded model\n",
        "    input_text, initial_state, final_state, probs = get_tensors(loaded_graph)\n",
        "\n",
        "    # Sentences generation setup\n",
        "    gen_sentences = [prime_word + ':']\n",
        "    prev_state = sess.run(initial_state, {input_text: np.array([[1]])})\n",
        "\n",
        "    # Generate sentences\n",
        "    for n in range(gen_length):\n",
        "        # Dynamic Input\n",
        "        dyn_input = [[vocab_to_int[word] for word in gen_sentences[-seq_length:]]]\n",
        "        dyn_seq_length = len(dyn_input[0])\n",
        "\n",
        "        # Get Prediction\n",
        "        probabilities, prev_state = sess.run(\n",
        "            [probs, final_state],\n",
        "            {input_text: dyn_input, initial_state: prev_state})\n",
        "        \n",
        "        pred_word = pick_word(probabilities[0][dyn_seq_length-1], int_to_vocab)\n",
        "\n",
        "        gen_sentences.append(pred_word)\n",
        "    \n",
        "    # Remove tokens\n",
        "    tv_script = ' '.join(gen_sentences)\n",
        "    for key, token in token_dict.items():\n",
        "        ending = ' ' if key in ['\\n', '(', '\"'] else ''\n",
        "        tv_script = tv_script.replace(' ' + token.lower(), key)\n",
        "    tv_script = tv_script.replace('\\n ', '\\n')\n",
        "    tv_script = tv_script.replace('( ', '(')\n",
        "        \n",
        "    print(tv_script)"
      ],
      "execution_count": 48,
      "outputs": [
        {
          "output_type": "stream",
          "text": [
            "WARNING:tensorflow:From /usr/local/lib/python3.6/dist-packages/tensorflow/python/training/saver.py:1266: checkpoint_exists (from tensorflow.python.training.checkpoint_management) is deprecated and will be removed in a future version.\n",
            "Instructions for updating:\n",
            "Use standard file APIs to check for files with this prefix.\n",
            "INFO:tensorflow:Restoring parameters from ./save\n",
            "moe_szyslak: that's the beauty,, good.\n",
            "marge_simpson: i can't sell it cold end.\n",
            "seymour_skinner:(sings) yeah, but hey, show, i'm going to go back to give a beer back and?\n",
            "moe_szyslak: uh, hey, i never done: make noticing it.\n",
            "bart_simpson: hey, now, i tied up in the crap.(beat)\" strokkur geysir.\"\n",
            "barney_gumble: hey, homer. you're a deliberate mis-statement of a beer became the expression) nigeria.\n",
            "moe_szyslak:(to moe, lance. especially beer, which his wedding!\n",
            "marge_simpson:(nonchalant) i knew feelings.\n",
            "moe_szyslak:(serious about boy) uh, that's right.(turns) homer, i never ain't been to david squishee for a lot, but i fell in all us.\n",
            "moe_szyslak: you know, i learned a big disappointment, moe.\n",
            "moe_szyslak: acquitted?! / goodbye marge!\n",
            "\n",
            "\n",
            "tipsy\n",
            "moe_szyslak: hey, homer. you know a new little huh?\n",
            "lenny_leonard:(sincere) my car is,\n"
          ],
          "name": "stdout"
        }
      ]
    },
    {
      "metadata": {
        "id": "Iwr3s2ueD3kk",
        "colab_type": "text"
      },
      "cell_type": "markdown",
      "source": [
        "# The TV Script is Nonsensical\n",
        "It's ok if the TV script doesn't make any sense.  We trained on less than a megabyte of text.  In order to get good results, you'll have to use a smaller vocabulary or get more data.  Luckily there's more data!  As we mentioned in the beggining of this project, this is a subset of [another dataset](https://www.kaggle.com/wcukierski/the-simpsons-by-the-data).  We didn't have you train on all the data, because that would take too long.  However, you are free to train your neural network on all the data.  After you complete the project, of course.\n",
        "# Submitting This Project\n",
        "When submitting this project, make sure to run all the cells before saving the notebook. Save the notebook file as \"dlnd_tv_script_generation.ipynb\" and save it as a HTML file under \"File\" -> \"Download as\". Include the \"helper.py\" and \"problem_unittests.py\" files in your submission."
      ]
    },
    {
      "metadata": {
        "id": "UyUUQ-BeKZgn",
        "colab_type": "code",
        "colab": {
          "base_uri": "https://localhost:8080/",
          "height": 84
        },
        "outputId": "5be5fd46-ba05-4e74-f87b-9af7ea06e218"
      },
      "cell_type": "code",
      "source": [
        "# Convert into HTML\n",
        "!!jupyter nbconvert *.ipynb"
      ],
      "execution_count": 49,
      "outputs": [
        {
          "output_type": "execute_result",
          "data": {
            "text/plain": [
              "['[NbConvertApp] Converting notebook dlnd_tv_script_generation.ipynb to html',\n",
              " '[NbConvertApp] Writing 367193 bytes to dlnd_tv_script_generation.html',\n",
              " '[NbConvertApp] Converting notebook dlnd_tv_script_generation-zh.ipynb to html',\n",
              " '[NbConvertApp] Writing 1275853 bytes to dlnd_tv_script_generation-zh.html']"
            ]
          },
          "metadata": {
            "tags": []
          },
          "execution_count": 49
        }
      ]
    }
  ]
}